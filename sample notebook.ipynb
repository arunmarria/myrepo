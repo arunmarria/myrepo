{
 "cells": [
  {
   "cell_type": "markdown",
   "metadata": {},
   "source": [
    "### This is a test notebook for lab"
   ]
  },
  {
   "cell_type": "markdown",
   "metadata": {},
   "source": [
    "This is a markdown cell\n"
   ]
  },
  {
   "cell_type": "markdown",
   "metadata": {},
   "source": [
    "This is another markdown cell"
   ]
  },
  {
   "cell_type": "code",
   "execution_count": 2,
   "metadata": {},
   "outputs": [
    {
     "name": "stdout",
     "output_type": "stream",
     "text": [
      "My name 10 times\n",
      "Arun\n",
      "Arun\n",
      "Arun\n",
      "Arun\n",
      "Arun\n",
      "Arun\n",
      "Arun\n",
      "Arun\n",
      "Arun\n",
      "Arun\n"
     ]
    }
   ],
   "source": [
    "# code cell 1\n",
    "print(\"My name 10 times\")\n",
    "for i in range(10):\n",
    "    print(\"Arun\")"
   ]
  },
  {
   "cell_type": "code",
   "execution_count": 3,
   "metadata": {},
   "outputs": [
    {
     "name": "stdout",
     "output_type": "stream",
     "text": [
      "My last name 10 times\n",
      "Marria\n",
      "Marria\n",
      "Marria\n",
      "Marria\n",
      "Marria\n",
      "Marria\n",
      "Marria\n",
      "Marria\n",
      "Marria\n",
      "Marria\n"
     ]
    }
   ],
   "source": [
    "# code cell 2\n",
    "print(\"My last name 10 times\")\n",
    "for i in range(10):\n",
    "    print(\"Marria\")"
   ]
  },
  {
   "cell_type": "code",
   "execution_count": null,
   "metadata": {},
   "outputs": [],
   "source": []
  }
 ],
 "metadata": {
  "kernelspec": {
   "display_name": "Python 3",
   "language": "python",
   "name": "python3"
  },
  "language_info": {
   "codemirror_mode": {
    "name": "ipython",
    "version": 3
   },
   "file_extension": ".py",
   "mimetype": "text/x-python",
   "name": "python",
   "nbconvert_exporter": "python",
   "pygments_lexer": "ipython3",
   "version": "3.7.3"
  }
 },
 "nbformat": 4,
 "nbformat_minor": 2
}
